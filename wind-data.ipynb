{
 "cells": [
  {
   "cell_type": "code",
   "execution_count": 103,
   "metadata": {},
   "outputs": [],
   "source": [
    "from IPython.display import JSON\n",
    "import requests\n",
    "import pandas as pd\n",
    "from bs4 import BeautifulSoup\n",
    "import datetime as dt\n",
    "import os.path as path\n",
    "import random\n",
    "import glob\n",
    "import time\n",
    "from selenium import webdriver"
   ]
  },
  {
   "cell_type": "markdown",
   "metadata": {},
   "source": [
    "## Fetch Data from NOAA?\n",
    "This isn't working for me - as soon as I put in dates I get no data in the response :-("
   ]
  },
  {
   "cell_type": "code",
   "execution_count": null,
   "metadata": {},
   "outputs": [],
   "source": [
    "from noaa_sdk import noaa\n",
    "n = noaa.NOAA()\n",
    "# spec: https://www.weather.gov/documentation/services-web-api#/"
   ]
  },
  {
   "cell_type": "code",
   "execution_count": null,
   "metadata": {},
   "outputs": [],
   "source": [
    "observations = n.stations_observations('KBOS', start=\"2021-04-01\", end=\"2021-04-02\")"
   ]
  },
  {
   "cell_type": "code",
   "execution_count": null,
   "metadata": {},
   "outputs": [],
   "source": [
    "observations = n.get_observations('11365','US',start='2020-04-01',end='2020-04-02')"
   ]
  },
  {
   "cell_type": "code",
   "execution_count": null,
   "metadata": {},
   "outputs": [],
   "source": [
    "observations = [o for o in observations]\n",
    "print(len(observations))"
   ]
  },
  {
   "cell_type": "code",
   "execution_count": null,
   "metadata": {},
   "outputs": [],
   "source": [
    "def format_url(station_id, start_date, end_date):\n",
    "    params = dict(start=\"{}T00:00:00Z\".format(start_date[:10]), end=\"{}T00:00:00Z\".format(end_date[:10]))\n",
    "    url = \"https://api.weather.gov/stations/{}/observations\".format(station_id)\n",
    "    return requests.get(url, params=params)"
   ]
  },
  {
   "cell_type": "code",
   "execution_count": null,
   "metadata": {},
   "outputs": [],
   "source": [
    "r = format_url('KBOS', \"2021-04-05\", \"2021-04-06\")"
   ]
  },
  {
   "cell_type": "code",
   "execution_count": null,
   "metadata": {},
   "outputs": [],
   "source": [
    "r.json()"
   ]
  },
  {
   "cell_type": "markdown",
   "metadata": {},
   "source": [
    "## Scrape data from Weather Underground?"
   ]
  },
  {
   "cell_type": "code",
   "execution_count": 110,
   "metadata": {},
   "outputs": [],
   "source": [
    "station = 'KBOS'"
   ]
  },
  {
   "cell_type": "code",
   "execution_count": 116,
   "metadata": {},
   "outputs": [
    {
     "name": "stdout",
     "output_type": "stream",
     "text": [
      "128\n"
     ]
    }
   ],
   "source": [
    "dates_to_fetch = []\n",
    "for year in [2020, 2021]:\n",
    "    start_date = dt.date(year,5,4)\n",
    "    for d in range(1,65):\n",
    "        day = start_date - dt.timedelta(days=d)\n",
    "        dates_to_fetch.append(day)\n",
    "print(len(dates_to_fetch))"
   ]
  },
  {
   "cell_type": "code",
   "execution_count": 130,
   "metadata": {},
   "outputs": [],
   "source": [
    "def grab_data_for_dates(dates):\n",
    "    # the tables are loaded via async requests to the server, so we have to use selenium here not requests\n",
    "    browser=webdriver.Firefox()\n",
    "\n",
    "    for day in dates:\n",
    "        date_str = \"{}-{}-{}\".format(day.year,day.month,day.day)\n",
    "        url = \"https://www.wunderground.com/history/daily/{}/date/{}\".format(station,date_str)\n",
    "        cache_file = path.join(\"data\", \"{}-{}.html\".format(station,date_str))\n",
    "        if path.exists(cache_file):\n",
    "            #print(\"{} - cached already\".format(date_str))\n",
    "            continue\n",
    "        print(\"{} - fetching\".format(date_str))\n",
    "        browser.get(url)\n",
    "        html = browser.page_source\n",
    "        with open(cache_file, \"w\") as f:\n",
    "            f.write(html)\n",
    "        time.sleep(random.randrange(2,5))\n",
    "\n",
    "    browser.close()"
   ]
  },
  {
   "cell_type": "code",
   "execution_count": 129,
   "metadata": {},
   "outputs": [
    {
     "name": "stdout",
     "output_type": "stream",
     "text": [
      "2020-4-18 - fetching\n"
     ]
    }
   ],
   "source": [
    "grab_data_for_dates(dates_to_fetch)"
   ]
  },
  {
   "cell_type": "markdown",
   "metadata": {},
   "source": [
    "## Parse the data out of the cached files"
   ]
  },
  {
   "cell_type": "code",
   "execution_count": 127,
   "metadata": {},
   "outputs": [],
   "source": [
    "datafile = \"{}-historical-temps.csv\".format(station)"
   ]
  },
  {
   "cell_type": "code",
   "execution_count": 158,
   "metadata": {},
   "outputs": [],
   "source": [
    "data = []\n",
    "for f in glob.glob(path.join(\"data\", \"*.html\")):\n",
    "    name_parts = f.replace(\".html\",\"\").split(\"-\")\n",
    "    date = dt.date(int(name_parts[1]),int(name_parts[2]),int(name_parts[3]))\n",
    "    with open(f, 'r') as file:\n",
    "        html_content = file.read()\n",
    "    soup = BeautifulSoup(html_content, 'html.parser')\n",
    "    try:\n",
    "        day_observations = []\n",
    "        hours_done = []\n",
    "        daily_observations_table = soup.find_all('table')[1]\n",
    "        rows = daily_observations_table.find_all('tr')\n",
    "        for row in rows[1:]:\n",
    "            cells = row.find_all(\"td\")\n",
    "            if len(cells) == 10:\n",
    "                time=cells[0].get_text()\n",
    "                hour=int(time.split(':')[0])\n",
    "                if 'AM' in time:\n",
    "                    hour = 0 if hour == 12 else hour\n",
    "                else:\n",
    "                    hour = hour + 12\n",
    "                data_row = dict(\n",
    "                    date=str(date),\n",
    "                    time=time,\n",
    "                    hour=hour,\n",
    "                    temperature=cells[1].get_text().replace(\"\\xa0F\",\"\"),\n",
    "                    dew_point=cells[2].get_text().replace(\"\\xa0F\",\"\"),\n",
    "                    humidity=cells[3].get_text().replace(\"\\xa0%\",\"\"),\n",
    "                    wind=cells[4].get_text(),\n",
    "                    wind_speed=cells[5].get_text().replace(\"\\xa0mph\",\"\"),\n",
    "                    wind_gust=cells[6].get_text().replace(\"\\xa0mph\",\"\"),\n",
    "                    pressure=cells[7].get_text().replace(\"\\xa0in\",\"\"),\n",
    "                    precipitation=cells[8].get_text().replace(\"\\xa0in\",\"\"),\n",
    "                    condition=cells[9].get_text(),\n",
    "                )\n",
    "                # now we need to limit to one observation per hour - just keep the first one\n",
    "                if hour not in hours_done:\n",
    "                    hours_done.append(hour)\n",
    "                    day_observations.append(data_row)\n",
    "        data += day_observations\n",
    "    except Exception as e:\n",
    "        print(f)\n",
    "        print(e)\n",
    "df = pd.DataFrame(data)\n",
    "df.to_csv(datafile)"
   ]
  },
  {
   "cell_type": "code",
   "execution_count": 161,
   "metadata": {},
   "outputs": [
    {
     "data": {
      "text/html": [
       "<div>\n",
       "<style scoped>\n",
       "    .dataframe tbody tr th:only-of-type {\n",
       "        vertical-align: middle;\n",
       "    }\n",
       "\n",
       "    .dataframe tbody tr th {\n",
       "        vertical-align: top;\n",
       "    }\n",
       "\n",
       "    .dataframe thead th {\n",
       "        text-align: right;\n",
       "    }\n",
       "</style>\n",
       "<table border=\"1\" class=\"dataframe\">\n",
       "  <thead>\n",
       "    <tr style=\"text-align: right;\">\n",
       "      <th></th>\n",
       "      <th>date</th>\n",
       "      <th>time</th>\n",
       "      <th>hour</th>\n",
       "      <th>temperature</th>\n",
       "      <th>dew_point</th>\n",
       "      <th>humidity</th>\n",
       "      <th>wind</th>\n",
       "      <th>wind_speed</th>\n",
       "      <th>wind_gust</th>\n",
       "      <th>pressure</th>\n",
       "      <th>precipitation</th>\n",
       "      <th>condition</th>\n",
       "    </tr>\n",
       "  </thead>\n",
       "  <tbody>\n",
       "    <tr>\n",
       "      <th>0</th>\n",
       "      <td>4/11/20</td>\n",
       "      <td>12:54 AM</td>\n",
       "      <td>0</td>\n",
       "      <td>40</td>\n",
       "      <td>29</td>\n",
       "      <td>65</td>\n",
       "      <td>WNW</td>\n",
       "      <td>15</td>\n",
       "      <td>23</td>\n",
       "      <td>29.56</td>\n",
       "      <td>0.0</td>\n",
       "      <td>Fair</td>\n",
       "    </tr>\n",
       "    <tr>\n",
       "      <th>1</th>\n",
       "      <td>4/11/20</td>\n",
       "      <td>1:54 AM</td>\n",
       "      <td>1</td>\n",
       "      <td>39</td>\n",
       "      <td>29</td>\n",
       "      <td>67</td>\n",
       "      <td>W</td>\n",
       "      <td>13</td>\n",
       "      <td>22</td>\n",
       "      <td>29.57</td>\n",
       "      <td>0.0</td>\n",
       "      <td>Fair</td>\n",
       "    </tr>\n",
       "    <tr>\n",
       "      <th>2</th>\n",
       "      <td>4/11/20</td>\n",
       "      <td>2:54 AM</td>\n",
       "      <td>2</td>\n",
       "      <td>39</td>\n",
       "      <td>29</td>\n",
       "      <td>67</td>\n",
       "      <td>W</td>\n",
       "      <td>16</td>\n",
       "      <td>0</td>\n",
       "      <td>29.59</td>\n",
       "      <td>0.0</td>\n",
       "      <td>Fair</td>\n",
       "    </tr>\n",
       "    <tr>\n",
       "      <th>3</th>\n",
       "      <td>4/11/20</td>\n",
       "      <td>3:54 AM</td>\n",
       "      <td>3</td>\n",
       "      <td>39</td>\n",
       "      <td>26</td>\n",
       "      <td>60</td>\n",
       "      <td>W</td>\n",
       "      <td>15</td>\n",
       "      <td>23</td>\n",
       "      <td>29.61</td>\n",
       "      <td>0.0</td>\n",
       "      <td>Fair</td>\n",
       "    </tr>\n",
       "    <tr>\n",
       "      <th>4</th>\n",
       "      <td>4/11/20</td>\n",
       "      <td>4:54 AM</td>\n",
       "      <td>4</td>\n",
       "      <td>38</td>\n",
       "      <td>26</td>\n",
       "      <td>62</td>\n",
       "      <td>W</td>\n",
       "      <td>10</td>\n",
       "      <td>0</td>\n",
       "      <td>29.63</td>\n",
       "      <td>0.0</td>\n",
       "      <td>Fair</td>\n",
       "    </tr>\n",
       "  </tbody>\n",
       "</table>\n",
       "</div>"
      ],
      "text/plain": [
       "      date      time  hour  temperature  dew_point  humidity wind  wind_speed  \\\n",
       "0  4/11/20  12:54 AM     0           40         29        65  WNW          15   \n",
       "1  4/11/20   1:54 AM     1           39         29        67    W          13   \n",
       "2  4/11/20   2:54 AM     2           39         29        67    W          16   \n",
       "3  4/11/20   3:54 AM     3           39         26        60    W          15   \n",
       "4  4/11/20   4:54 AM     4           38         26        62    W          10   \n",
       "\n",
       "   wind_gust  pressure  precipitation condition  \n",
       "0         23     29.56            0.0      Fair  \n",
       "1         22     29.57            0.0      Fair  \n",
       "2          0     29.59            0.0      Fair  \n",
       "3         23     29.61            0.0      Fair  \n",
       "4          0     29.63            0.0      Fair  "
      ]
     },
     "execution_count": 161,
     "metadata": {},
     "output_type": "execute_result"
    }
   ],
   "source": [
    "df = pd.read_csv(datafile)\n",
    "df.head()"
   ]
  },
  {
   "cell_type": "code",
   "execution_count": null,
   "metadata": {},
   "outputs": [],
   "source": []
  }
 ],
 "metadata": {
  "kernelspec": {
   "display_name": "Python 3",
   "language": "python",
   "name": "python3"
  },
  "language_info": {
   "codemirror_mode": {
    "name": "ipython",
    "version": 3
   },
   "file_extension": ".py",
   "mimetype": "text/x-python",
   "name": "python",
   "nbconvert_exporter": "python",
   "pygments_lexer": "ipython3",
   "version": "3.7.3"
  }
 },
 "nbformat": 4,
 "nbformat_minor": 4
}
